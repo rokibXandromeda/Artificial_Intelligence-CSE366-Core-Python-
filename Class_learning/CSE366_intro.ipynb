{
  "cells": [
    {
      "cell_type": "markdown",
      "metadata": {
        "id": "qqVBuQZQvIZj"
      },
      "source": [
        "# **Introduction to Python Programming**\n",
        "\n",
        "\n",
        "---\n",
        "\n",
        "*   General purpose programming language, you can build anything!\n",
        "*   Open Source. Free to use.\n",
        "*   Lots of Python packages\n",
        "*   Current Version: Python 3.x\n",
        "*   Indentation is important using tabs or spaces!"
      ]
    },
    {
      "cell_type": "markdown",
      "metadata": {
        "id": "CpKuWh4cHHCF"
      },
      "source": [
        "# Hello world!"
      ]
    },
    {
      "cell_type": "markdown",
      "metadata": {
        "id": "oUJr_fUpHMMC"
      },
      "source": [
        "**Print**\n",
        "\n",
        "Lets print a simple lines"
      ]
    },
    {
      "cell_type": "code",
      "execution_count": null,
      "metadata": {
        "colab": {
          "base_uri": "https://localhost:8080/"
        },
        "id": "4Egv_h9Oumto",
        "outputId": "96eb49f5-affb-4e04-a091-1d78ee3dfb6f"
      },
      "outputs": [
        {
          "output_type": "stream",
          "name": "stdout",
          "text": [
            "Hello, CSE366!\n"
          ]
        }
      ],
      "source": [
        "print('Hello, CSE366!')"
      ]
    },
    {
      "cell_type": "code",
      "execution_count": null,
      "metadata": {
        "colab": {
          "base_uri": "https://localhost:8080/"
        },
        "id": "CQhwnwizy2IV",
        "outputId": "8aa68d09-6fc6-4955-82e1-f909a92e76ec"
      },
      "outputs": [
        {
          "name": "stdout",
          "output_type": "stream",
          "text": [
            "CSE department's lab\n"
          ]
        }
      ],
      "source": [
        "# CSE department's lab\n",
        "print(\"CSE department's lab\")"
      ]
    },
    {
      "cell_type": "markdown",
      "metadata": {
        "id": "tqtqr_OzGsHp"
      },
      "source": [
        "**Indentation**\n",
        "\n",
        "Python uses indentation for blocks, instead of curly braces. Both tabs and spaces are supported, but the standard indentation requires standard Python code to use four spaces. For example:"
      ]
    },
    {
      "cell_type": "code",
      "execution_count": null,
      "metadata": {
        "id": "ycxZaCHfvMuZ"
      },
      "outputs": [],
      "source": [
        "x = 2\n",
        "if x == 1:\n",
        "    # indented four spaces\n",
        "    print(\"x is 1.\")\n",
        "    print(\"x is 1.\")\n",
        "\n",
        "print(\"x is 30.\")"
      ]
    },
    {
      "cell_type": "markdown",
      "metadata": {
        "id": "l850oefFG_BE"
      },
      "source": [
        "# Variables and Types\n"
      ]
    },
    {
      "cell_type": "markdown",
      "metadata": {
        "id": "PHskpJ-mHWIs"
      },
      "source": [
        "*   Python is completely object oriented, and not \"statically typed\".\n",
        "*   You do not need to declare variables before using them, or declare their type.\n",
        "*   Every variable in Python is an object."
      ]
    },
    {
      "cell_type": "markdown",
      "metadata": {
        "id": "oSa5U7ZmH9Eo"
      },
      "source": [
        "**Numbers**\n",
        "\n",
        "Python supports two types of numbers - integers(whole numbers) and floating point numbers(decimals). (It also supports complex numbers, which will not be explained now).\n",
        "\n",
        "To define an integer, use the following syntax:"
      ]
    },
    {
      "cell_type": "code",
      "execution_count": null,
      "metadata": {
        "colab": {
          "base_uri": "https://localhost:8080/"
        },
        "id": "DyPnJSDuHyRx",
        "outputId": "6494c46b-4d2e-4673-db60-6b69d827f3a4"
      },
      "outputs": [
        {
          "name": "stdout",
          "output_type": "stream",
          "text": [
            "7\n"
          ]
        }
      ],
      "source": [
        "myint = 7\n",
        "print(myint)"
      ]
    },
    {
      "cell_type": "markdown",
      "metadata": {
        "id": "8E84H734IJdv"
      },
      "source": [
        "To define a floating point number, you may use one of the following notations:"
      ]
    },
    {
      "cell_type": "code",
      "execution_count": null,
      "metadata": {
        "colab": {
          "base_uri": "https://localhost:8080/"
        },
        "id": "D25s4xuNIKWo",
        "outputId": "94e61d2d-19fd-4632-91af-0c568ea4f4f2"
      },
      "outputs": [
        {
          "name": "stdout",
          "output_type": "stream",
          "text": [
            "7.0\n",
            "7.0\n"
          ]
        }
      ],
      "source": [
        "myfloat = 7.0\n",
        "print(myfloat)\n",
        "myfloat = float(7)\n",
        "print(myfloat)"
      ]
    },
    {
      "cell_type": "markdown",
      "metadata": {
        "id": "HLFhxNofIUp_"
      },
      "source": [
        "**Strings**\n",
        "\n",
        "Strings are defined either with a single quote or a double quotes."
      ]
    },
    {
      "cell_type": "code",
      "execution_count": null,
      "metadata": {
        "colab": {
          "base_uri": "https://localhost:8080/"
        },
        "id": "Dp2rDRlIIbiX",
        "outputId": "5f5d80c7-9ead-4ced-d9de-9dad3b762a87"
      },
      "outputs": [
        {
          "name": "stdout",
          "output_type": "stream",
          "text": [
            "hello\n",
            "hello\n"
          ]
        }
      ],
      "source": [
        "mystring = 'hello'\n",
        "print(mystring)\n",
        "mystring = \"hello\"\n",
        "print(mystring)"
      ]
    },
    {
      "cell_type": "markdown",
      "metadata": {
        "id": "OWisN8WsItNx"
      },
      "source": [
        "The difference between the two is that using double quotes makes it easy to include apostrophes (whereas these would terminate the string if using single quotes)"
      ]
    },
    {
      "cell_type": "code",
      "execution_count": null,
      "metadata": {
        "colab": {
          "base_uri": "https://localhost:8080/"
        },
        "id": "B__Gm1NFIvvU",
        "outputId": "b1bf972c-c664-41c0-93aa-120796e21df3"
      },
      "outputs": [
        {
          "name": "stdout",
          "output_type": "stream",
          "text": [
            "Don't worry about apostrophes\n"
          ]
        }
      ],
      "source": [
        "mystring = \"Don't worry about apostrophes\"\n",
        "print(mystring)"
      ]
    },
    {
      "cell_type": "markdown",
      "metadata": {
        "id": "eFVq0chBJWkg"
      },
      "source": [
        "# Operators\n",
        "\n",
        "Lets have a loot at operators used in python"
      ]
    },
    {
      "cell_type": "markdown",
      "metadata": {
        "id": "v52iOe9kJkjg"
      },
      "source": [
        "**Arithmetic Operators**\n",
        "\n",
        "*   ' + '\tAdd two operands or unary plus\tx + y+ 2\n",
        "*   ' - '\tSubtract right operand from the left or unary minus\tx - y- 2\n",
        "*   ' * '\tMultiply two operands\tx * y\n",
        "*   ' / '\tDivide left operand by the right one (always results into float)\tx / y\n",
        "*   ' % '\tModulus - remainder of the division of left operand by the right\tx % y (remainder of x/y)\n",
        "*   ' // '\tFloor division - division that results into whole number adjusted to the left in the number line\tx // y\n",
        "*   ' ** '\tExponent - left operand raised to the power of right\tx**y (x to the power y)"
      ]
    },
    {
      "cell_type": "code",
      "execution_count": null,
      "metadata": {
        "colab": {
          "base_uri": "https://localhost:8080/"
        },
        "id": "JMxAuNgnJNhj",
        "outputId": "38c3a280-138b-4288-ae68-5a26d990ffc0"
      },
      "outputs": [
        {
          "name": "stdout",
          "output_type": "stream",
          "text": [
            "10000\n"
          ]
        }
      ],
      "source": [
        "# Do your own practise\n",
        "a = 10\n",
        "b = 4\n",
        "c = a**b\n",
        "print(c)"
      ]
    },
    {
      "cell_type": "code",
      "execution_count": null,
      "metadata": {
        "colab": {
          "base_uri": "https://localhost:8080/"
        },
        "id": "2UwfSDcAKx8d",
        "outputId": "1d811bd1-dcfe-48cc-8c71-5c737749b26f"
      },
      "outputs": [
        {
          "name": "stdout",
          "output_type": "stream",
          "text": [
            "3\n",
            "hello world\n"
          ]
        }
      ],
      "source": [
        "# Simple operators can be executed on numbers and strings\n",
        "one = 1\n",
        "two = 2\n",
        "three = one + two\n",
        "print(three)\n",
        "\n",
        "hello = \"hello\"\n",
        "world = \"world\"\n",
        "helloworld = hello + \" \" + world\n",
        "print(helloworld)"
      ]
    },
    {
      "cell_type": "code",
      "execution_count": null,
      "metadata": {
        "colab": {
          "base_uri": "https://localhost:8080/"
        },
        "id": "yVKjFHWnLC4U",
        "outputId": "958b4e07-bd3f-4300-e089-58ef657483ee"
      },
      "outputs": [
        {
          "name": "stdout",
          "output_type": "stream",
          "text": [
            "3 4\n"
          ]
        }
      ],
      "source": [
        "# Assignments can be done on more than one variable \"simultaneously\" on the same line like this\n",
        "\n",
        "a, b = 3, 4\n",
        "print(a, b)"
      ]
    },
    {
      "cell_type": "code",
      "execution_count": null,
      "metadata": {
        "colab": {
          "base_uri": "https://localhost:8080/",
          "height": 201
        },
        "id": "qd9owXiJLKSb",
        "outputId": "980bf01d-f610-4d8a-e797-cdd402c74b5e"
      },
      "outputs": [
        {
          "ename": "TypeError",
          "evalue": "ignored",
          "output_type": "error",
          "traceback": [
            "\u001b[0;31m---------------------------------------------------------------------------\u001b[0m",
            "\u001b[0;31mTypeError\u001b[0m                                 Traceback (most recent call last)",
            "\u001b[0;32m<ipython-input-80-688a7309f3a2>\u001b[0m in \u001b[0;36m<module>\u001b[0;34m\u001b[0m\n\u001b[1;32m      6\u001b[0m \u001b[0mhello\u001b[0m \u001b[0;34m=\u001b[0m \u001b[0;34m\"hello\"\u001b[0m\u001b[0;34m\u001b[0m\u001b[0;34m\u001b[0m\u001b[0m\n\u001b[1;32m      7\u001b[0m \u001b[0;34m\u001b[0m\u001b[0m\n\u001b[0;32m----> 8\u001b[0;31m \u001b[0mprint\u001b[0m\u001b[0;34m(\u001b[0m\u001b[0mone\u001b[0m \u001b[0;34m+\u001b[0m \u001b[0mtwo\u001b[0m \u001b[0;34m+\u001b[0m \u001b[0mhello\u001b[0m\u001b[0;34m)\u001b[0m\u001b[0;34m\u001b[0m\u001b[0;34m\u001b[0m\u001b[0m\n\u001b[0m",
            "\u001b[0;31mTypeError\u001b[0m: unsupported operand type(s) for +: 'int' and 'str'"
          ]
        }
      ],
      "source": [
        "# Mixing operators between numbers and strings is not supported\n",
        "\n",
        "# This will not work!\n",
        "one = 1\n",
        "two = 2\n",
        "hello = \"hello\"\n",
        "\n",
        "print(one + two + hello)"
      ]
    },
    {
      "cell_type": "markdown",
      "metadata": {
        "id": "koSIE2suOCyh"
      },
      "source": [
        "# Comparison / relational operators:\n",
        "\n",
        "`>, <, >=, <=, ==, !=`\n",
        "\n",
        "# Logical Operators\n",
        "\n",
        "`and, or, not`"
      ]
    },
    {
      "cell_type": "markdown",
      "metadata": {
        "id": "6E0oFJq2LfIA"
      },
      "source": [
        "**Exercise**\n",
        "\n",
        "The target of this exercise is to create a string, an integer, and a floating point number. The string should be named mystring and should contain the word \"hello\". The floating point number should be named myfloat and should contain the number 10.0, and the integer should be named myint and should contain the number 20."
      ]
    },
    {
      "cell_type": "code",
      "execution_count": null,
      "metadata": {
        "colab": {
          "base_uri": "https://localhost:8080/"
        },
        "id": "uChrYDT1LlEF",
        "outputId": "1d41b768-0494-437e-9c3d-7e97e76ef38c"
      },
      "outputs": [
        {
          "name": "stdout",
          "output_type": "stream",
          "text": [
            "String: hello\n",
            "Float: 10.000000\n",
            "Integer: 20\n"
          ]
        }
      ],
      "source": [
        "# change this code\n",
        "mystring = \"hello\"\n",
        "myfloat = 10.0\n",
        "myint = 20\n",
        "\n",
        "# testing code\n",
        "if mystring == \"hello\":\n",
        "    print(\"String: %s\" % mystring)\n",
        "if isinstance(myfloat, float) and myfloat == 10.0:\n",
        "    print(\"Float: %f\" % myfloat)\n",
        "if isinstance(myint, int) and myint == 20:\n",
        "    print(\"Integer: %d\" % myint)"
      ]
    },
    {
      "cell_type": "markdown",
      "metadata": {
        "id": "QS0bo19OL3Qv"
      },
      "source": [
        "**Few useful functions**\n",
        "\n",
        "id(object_name), type(object_name), isinstance(object_name, type_name)"
      ]
    },
    {
      "cell_type": "code",
      "execution_count": null,
      "metadata": {
        "colab": {
          "base_uri": "https://localhost:8080/"
        },
        "id": "1I8guEveNNsO",
        "outputId": "850a445e-2423-45bf-b222-cf3bdae912ac"
      },
      "outputs": [
        {
          "name": "stdout",
          "output_type": "stream",
          "text": [
            "id of 5 = 11122720\n",
            "id of a = 11122720\n",
            "id of b = 11122720\n",
            "id of c = 140343258335248\n",
            "id of d = 11122720\n"
          ]
        }
      ],
      "source": [
        "# id of 5\n",
        "print(\"id of 5 =\", id(5))\n",
        "\n",
        "a = 5\n",
        "\n",
        "# id of a\n",
        "print(\"id of a =\", id(a))\n",
        "\n",
        "b = a\n",
        "\n",
        "# id of b\n",
        "print(\"id of b =\", id(b))\n",
        "\n",
        "c = 5.0\n",
        "\n",
        "# id of c\n",
        "print(\"id of c =\", id(c))\n",
        "\n",
        "d = 5\n",
        "print(\"id of d =\", id(d))"
      ]
    },
    {
      "cell_type": "code",
      "execution_count": null,
      "metadata": {
        "colab": {
          "base_uri": "https://localhost:8080/"
        },
        "id": "K3xDnE8hL8sK",
        "outputId": "ca238e17-29b7-4a15-f02e-799372b67775"
      },
      "outputs": [
        {
          "data": {
            "text/plain": [
              "True"
            ]
          },
          "execution_count": 91,
          "metadata": {},
          "output_type": "execute_result"
        }
      ],
      "source": [
        "mystring = \"Hi\"\n",
        "myfloat = 10.2\n",
        "myint = 30\n",
        "\n",
        "#type(mystring)\n",
        "# type(myfloat)\n",
        "# type(myint)\n",
        "\n",
        "isinstance(myint, int)\n",
        "\n"
      ]
    },
    {
      "cell_type": "markdown",
      "metadata": {
        "id": "68LyAzs8NbOj"
      },
      "source": [
        "# Mutabale objects: List\n",
        "\n",
        "\n",
        "Lists are very similar to arrays. They can contain any type of variable, and they can contain as many variables as you wish.\n",
        "\n",
        "* Python List append(): Add a single element to the end of the list\n",
        "* Python List clear(): Removes all Items from the List\n",
        "* Python List copy(): returns a shallow copy of the list\n",
        "* Python List count(): returns count of the element in the list\n",
        "* Python List extend(): adds iterable elements to the end of the list\n",
        "* Python List index(): returns the index of the element in the list\n",
        "* Python List insert(): insert an element to the list\n",
        "* Python List pop(): Removes element at the given index\n",
        "* Python List remove(): Removes item from the list\n",
        "* Python List reverse(): reverses the list\n",
        "* Python List sort(): sorts elements of a list"
      ]
    },
    {
      "cell_type": "code",
      "execution_count": null,
      "metadata": {
        "colab": {
          "base_uri": "https://localhost:8080/"
        },
        "id": "6iofxuBFOYXw",
        "outputId": "06005caf-1586-46be-e60d-f4abc976db50"
      },
      "outputs": [
        {
          "name": "stdout",
          "output_type": "stream",
          "text": [
            "[1, 2, 3]\n"
          ]
        }
      ],
      "source": [
        "mylist = []\n",
        "mylist.append(1)\n",
        "mylist.append(2)\n",
        "mylist.append(3)\n",
        "#print(mylist[0]) # prints 1\n",
        "#print(mylist[1]) # prints 2\n",
        "#print(mylist[2]) # prints 3\n",
        "print(mylist)\n"
      ]
    },
    {
      "cell_type": "code",
      "execution_count": null,
      "metadata": {
        "colab": {
          "base_uri": "https://localhost:8080/"
        },
        "id": "XD404DjYWBM3",
        "outputId": "db2c4f24-4f86-4f88-e282-a975a5dd17d5"
      },
      "outputs": [
        {
          "name": "stdout",
          "output_type": "stream",
          "text": [
            "1\n",
            "2\n",
            "3\n"
          ]
        }
      ],
      "source": [
        "# prints out 1,2,3\n",
        "for x in mylist:\n",
        "    print(x)"
      ]
    },
    {
      "cell_type": "code",
      "execution_count": null,
      "metadata": {
        "colab": {
          "base_uri": "https://localhost:8080/"
        },
        "id": "T6ePc-1MWDSE",
        "outputId": "b8816e1d-9279-4e09-cc23-3f5fefc64c17"
      },
      "outputs": [
        {
          "name": "stdout",
          "output_type": "stream",
          "text": [
            "1\n",
            "3\n",
            "[2, 3]\n"
          ]
        }
      ],
      "source": [
        "# Elements can be accessed using indexing:\n",
        "mylist = [1, 2, 3]\n",
        "print (mylist[0])\n",
        "print(mylist[-1])\n",
        "print(mylist[1:3])"
      ]
    },
    {
      "cell_type": "markdown",
      "metadata": {
        "id": "5yUSKqdqOiEF"
      },
      "source": [
        "**Accessing an index which does not exist generates an exception (an error).**"
      ]
    },
    {
      "cell_type": "markdown",
      "metadata": {
        "id": "gILtHipTOj6t"
      },
      "source": []
    },
    {
      "cell_type": "code",
      "execution_count": null,
      "metadata": {
        "colab": {
          "base_uri": "https://localhost:8080/",
          "height": 183
        },
        "id": "tFafF7d88own",
        "outputId": "3c936858-172c-400c-87ae-0f96a91e1490"
      },
      "outputs": [
        {
          "ename": "IndexError",
          "evalue": "ignored",
          "output_type": "error",
          "traceback": [
            "\u001b[0;31m---------------------------------------------------------------------------\u001b[0m",
            "\u001b[0;31mIndexError\u001b[0m                                Traceback (most recent call last)",
            "\u001b[0;32m<ipython-input-95-ac9eeac6db06>\u001b[0m in \u001b[0;36m<module>\u001b[0;34m\u001b[0m\n\u001b[1;32m      1\u001b[0m \u001b[0mmylist\u001b[0m \u001b[0;34m=\u001b[0m \u001b[0;34m[\u001b[0m\u001b[0;36m1\u001b[0m\u001b[0;34m,\u001b[0m\u001b[0;36m2\u001b[0m\u001b[0;34m,\u001b[0m\u001b[0;36m3\u001b[0m\u001b[0;34m]\u001b[0m\u001b[0;34m\u001b[0m\u001b[0;34m\u001b[0m\u001b[0m\n\u001b[0;32m----> 2\u001b[0;31m \u001b[0mprint\u001b[0m\u001b[0;34m(\u001b[0m\u001b[0mmylist\u001b[0m\u001b[0;34m[\u001b[0m\u001b[0;36m10\u001b[0m\u001b[0;34m]\u001b[0m\u001b[0;34m)\u001b[0m\u001b[0;34m\u001b[0m\u001b[0;34m\u001b[0m\u001b[0m\n\u001b[0m",
            "\u001b[0;31mIndexError\u001b[0m: list index out of range"
          ]
        }
      ],
      "source": [
        "mylist = [1,2,3]\n",
        "print(mylist[10])"
      ]
    },
    {
      "cell_type": "markdown",
      "metadata": {
        "id": "c9sdm8aXPHNK"
      },
      "source": [
        "**Exercise**\n",
        "\n",
        "In this exercise, you will need to add numbers and strings to the correct lists using the \"append\" list method. You must add the numbers 1,2, and 3 to the \"numbers\" list, and the words 'hello' and 'world' to the strings variable.\n",
        "\n",
        "You will also have to fill in the variable second_name with the second name in the names list, using the brackets operator []. Note that the index is zero-based, so if you want to access the second item in the list, its index will be 1.\n",
        "\n",
        "The output will be:\n",
        "\n",
        "`[1, 2, 3]`\n",
        "\n",
        "`['hello', 'world']`\n",
        "\n",
        "`The second name on the names list is Eric`"
      ]
    },
    {
      "cell_type": "code",
      "execution_count": null,
      "metadata": {
        "id": "qFTkDzOlPNsO"
      },
      "outputs": [],
      "source": [
        "numbers = []\n",
        "strings = []\n",
        "names = [\"John\", \"Eric\", \"Jessica\"]\n",
        "\n",
        "# write your code here\n",
        "second_name = None\n",
        "\n",
        "\n",
        "# this code should write out the filled arrays and the second name in the names list (Eric).\n",
        "print(numbers)\n",
        "print(strings)\n",
        "print(\"The second name on the names list is %s\" % second_name)"
      ]
    },
    {
      "cell_type": "markdown",
      "metadata": {
        "id": "2Nt_kKQAUutp"
      },
      "source": [
        "# Immutuable Objects: Tuple\n",
        "\n",
        "* A tuple in Python is similar to a list. The difference between the two is that we cannot change the elements of a tuple once it is assigned whereas we can change the elements of a list.\n",
        "\n",
        "* A tuple can have any number of items and they may be of different types (integer, float, list, string, etc.)."
      ]
    },
    {
      "cell_type": "code",
      "execution_count": null,
      "metadata": {
        "colab": {
          "base_uri": "https://localhost:8080/"
        },
        "id": "BDVYquMuU-qf",
        "outputId": "4390573a-29f0-4cc9-ea47-4667ff5cb593"
      },
      "outputs": [
        {
          "name": "stdout",
          "output_type": "stream",
          "text": [
            "(1, 2, 3)\n",
            "(1, 'Hello', 3.4)\n"
          ]
        }
      ],
      "source": [
        "# Tuple having integers\n",
        "my_tuple = (1, 2, 3)\n",
        "print(my_tuple)\n",
        "\n",
        "# tuple with mixed datatypes\n",
        "my_tuple = (1, \"Hello\", 3.4)\n",
        "print(my_tuple)"
      ]
    },
    {
      "cell_type": "markdown",
      "metadata": {
        "id": "2yBvqzu7UBe4"
      },
      "source": [
        "# String Formatting\n",
        "\n",
        "Python uses C-style string formatting to create new, formatted strings. The \"%\" operator is used to format a set of variables enclosed in a \"tuple\" (a fixed size list), together with a format string, which contains normal text together with \"argument specifiers\", special symbols like \"%s\" and \"%d\".\n",
        "\n",
        "Let's say you have a variable called \"name\" with your user name in it, and you would then like to print(out a greeting to that user.)\n"
      ]
    },
    {
      "cell_type": "code",
      "execution_count": null,
      "metadata": {
        "colab": {
          "base_uri": "https://localhost:8080/"
        },
        "id": "bIXV7aHLUVXt",
        "outputId": "677d422d-b9c9-4a3f-d7f6-869fd801cce8"
      },
      "outputs": [
        {
          "name": "stdout",
          "output_type": "stream",
          "text": [
            "Hello, John!\n"
          ]
        }
      ],
      "source": [
        "# This prints out \"Hello, John!\"\n",
        "name = \"John\"\n",
        "print(\"Hello, %s!\" %name)"
      ]
    },
    {
      "cell_type": "code",
      "execution_count": null,
      "metadata": {
        "colab": {
          "base_uri": "https://localhost:8080/"
        },
        "id": "VOGfICUtWitA",
        "outputId": "7718c5d9-b182-4425-e72c-5d140deb02a6"
      },
      "outputs": [
        {
          "name": "stdout",
          "output_type": "stream",
          "text": [
            "John is 23 years old.\n"
          ]
        }
      ],
      "source": [
        "# To use two or more argument specifiers, use a tuple (parentheses):\n",
        "# This prints out \"John is 23 years old.\"\n",
        "name = \"John\"\n",
        "age = 23\n",
        "print(\"%s is %d years old.\" % (name, age))"
      ]
    },
    {
      "cell_type": "markdown",
      "metadata": {
        "id": "8YB0FMIpW_gc"
      },
      "source": [
        "Any object which is not a string can be formatted using the %s operator as well. The string which returns from the \"repr\" method of that object is formatted as the string (The repr() method returns a printable representation of the given object.). For example:"
      ]
    },
    {
      "cell_type": "code",
      "execution_count": null,
      "metadata": {
        "colab": {
          "base_uri": "https://localhost:8080/"
        },
        "id": "rvKs87o2XAWx",
        "outputId": "417f0d65-06c6-47ab-a223-d97005447e0e"
      },
      "outputs": [
        {
          "name": "stdout",
          "output_type": "stream",
          "text": [
            "A list: [1, 2, 3]\n"
          ]
        }
      ],
      "source": [
        "# This prints out: A list: [1, 2, 3]\n",
        "mylist = [1,2,3]\n",
        "print(\"A list: %s\" % mylist)"
      ]
    },
    {
      "cell_type": "markdown",
      "metadata": {
        "id": "dDAcE9P9YZ0V"
      },
      "source": [
        "Here are some basic argument specifiers you should know:\n",
        "\n",
        "`%s - String (or any object with a string representation, like numbers)`\n",
        "\n",
        "`%d - Integers`\n",
        "\n",
        "`%f - Floating point numbers`\n",
        "\n",
        "`%.<number of digits>f - Floating point numbers with a fixed amount of digits to the right of the dot.`\n",
        "\n",
        "`%x/%X - Integers in hex representation (lowercase/uppercase)`"
      ]
    },
    {
      "cell_type": "markdown",
      "metadata": {
        "id": "imykEFbkY5qP"
      },
      "source": [
        "**Excercise**\n",
        "\n",
        "You will need to write a format string which prints out the data using the following syntax:\n",
        "\n",
        "`Hello John Doe. Your current balance is $53.44.`"
      ]
    },
    {
      "cell_type": "code",
      "execution_count": null,
      "metadata": {
        "colab": {
          "base_uri": "https://localhost:8080/",
          "height": 204
        },
        "id": "dSu8dH96Y2k2",
        "outputId": "b7963373-7cbe-467d-bfe6-22a548363bd6"
      },
      "outputs": [
        {
          "ename": "TypeError",
          "evalue": "ignored",
          "output_type": "error",
          "traceback": [
            "\u001b[0;31m---------------------------------------------------------------------------\u001b[0m",
            "\u001b[0;31mTypeError\u001b[0m                                 Traceback (most recent call last)",
            "\u001b[0;32m<ipython-input-45-2fe9ed8ba3b5>\u001b[0m in \u001b[0;36m<module>\u001b[0;34m\u001b[0m\n\u001b[1;32m      2\u001b[0m \u001b[0mformat_string\u001b[0m \u001b[0;34m=\u001b[0m \u001b[0;34m\"Hello\"\u001b[0m\u001b[0;34m\u001b[0m\u001b[0;34m\u001b[0m\u001b[0m\n\u001b[1;32m      3\u001b[0m \u001b[0;34m\u001b[0m\u001b[0m\n\u001b[0;32m----> 4\u001b[0;31m \u001b[0mprint\u001b[0m\u001b[0;34m(\u001b[0m\u001b[0mformat_string\u001b[0m \u001b[0;34m%\u001b[0m \u001b[0mdata\u001b[0m\u001b[0;34m)\u001b[0m\u001b[0;34m\u001b[0m\u001b[0;34m\u001b[0m\u001b[0m\n\u001b[0m",
            "\u001b[0;31mTypeError\u001b[0m: not all arguments converted during string formatting"
          ]
        }
      ],
      "source": [
        "data = (\"John\", \"Doe\", 53.44)\n",
        "format_string = \"Hello\"\n",
        "\n",
        "print(format_string % data)"
      ]
    },
    {
      "cell_type": "markdown",
      "metadata": {
        "id": "gHdh3HkoakFx"
      },
      "source": [
        "# Basic String Operations\n",
        "\n",
        "Strings are bits of text. They can be defined as anything between quotes:\n",
        "\n",
        "```\n",
        "astring = \"Hello world!\"\n",
        "astring2 = 'Hello world!'\n",
        "```\n",
        "\n"
      ]
    },
    {
      "cell_type": "markdown",
      "metadata": {
        "id": "KMYA33JGbtFw"
      },
      "source": [
        "As you can see, the first thing you learned was printing a simple sentence. This sentence was stored by Python as a string. However, instead of immediately printing strings out, we will explore the various things you can do to them. You can also use single quotes to assign a string. However, you will face problems if the value to be assigned itself contains single quotes. For example to assign the string in these bracket(single quotes are ' ') you need to use double quotes only like this:"
      ]
    },
    {
      "cell_type": "code",
      "execution_count": null,
      "metadata": {
        "colab": {
          "base_uri": "https://localhost:8080/"
        },
        "id": "CZnjkrypbubM",
        "outputId": "17532f7b-7e87-4fd0-e312-987e4b1ed31a"
      },
      "outputs": [
        {
          "name": "stdout",
          "output_type": "stream",
          "text": [
            "single quotes are ' '\n",
            "12\n"
          ]
        }
      ],
      "source": [
        "astring = \"Hello world!\"\n",
        "print(\"single quotes are ' '\")\n",
        "\n",
        "print(len(astring))"
      ]
    },
    {
      "cell_type": "markdown",
      "metadata": {
        "id": "7pap_BlKcCep"
      },
      "source": [
        "Lets work with some more string methods"
      ]
    },
    {
      "cell_type": "code",
      "execution_count": null,
      "metadata": {
        "colab": {
          "base_uri": "https://localhost:8080/"
        },
        "id": "MQrXjdsVcGNc",
        "outputId": "eab4058b-9f30-4ad6-91fa-3cfb84105e8d"
      },
      "outputs": [
        {
          "name": "stdout",
          "output_type": "stream",
          "text": [
            "4\n"
          ]
        }
      ],
      "source": [
        "astring = \"Hello world!\"\n",
        "print(astring.index(\"o\"))"
      ]
    },
    {
      "cell_type": "markdown",
      "metadata": {
        "id": "J1vt5lPccIBX"
      },
      "source": [
        "That prints out 4, because the location of the first occurrence of the letter \"o\" is 4 characters away from the first character. Notice how there are actually two o's in the phrase - this method only recognizes the first.\n",
        "\n",
        "But why didn't it print out 5? Isn't \"o\" the fifth character in the string? To make things more simple, Python (and most other programming languages) start things at 0 instead of 1. So the index of \"o\" is 4."
      ]
    },
    {
      "cell_type": "code",
      "execution_count": null,
      "metadata": {
        "colab": {
          "base_uri": "https://localhost:8080/"
        },
        "id": "hzRFK9yhcOKa",
        "outputId": "f347f870-ad16-45c8-935b-fc9217a4269b"
      },
      "outputs": [
        {
          "name": "stdout",
          "output_type": "stream",
          "text": [
            "3\n"
          ]
        }
      ],
      "source": [
        "astring = \"Hello world!\"\n",
        "print(astring.count(\"l\"))"
      ]
    },
    {
      "cell_type": "code",
      "execution_count": null,
      "metadata": {
        "colab": {
          "base_uri": "https://localhost:8080/"
        },
        "id": "rCGgYx0scTxg",
        "outputId": "cb224971-afb7-4077-b039-5076df1ea471"
      },
      "outputs": [
        {
          "name": "stdout",
          "output_type": "stream",
          "text": [
            "lo w\n"
          ]
        }
      ],
      "source": [
        "astring = \"Hello world!\"\n",
        "print(astring[3:7])"
      ]
    },
    {
      "cell_type": "markdown",
      "metadata": {
        "id": "fdF7FgpBcUX1"
      },
      "source": [
        "This prints a slice of the string, starting at index 3, and ending at index 6. But why 6 and not 7? Again, most programming languages do this - it makes doing math inside those brackets easier.\n",
        "\n",
        "If you just have one number in the brackets, it will give you the single character at that index. If you leave out the first number but keep the colon, it will give you a slice from the start to the number you left in. If you leave out the second number, it will give you a slice from the first number to the end.\n",
        "\n",
        "You can even put negative numbers inside the brackets. They are an easy way of starting at the end of the string instead of the beginning. This way, -3 means \"3rd character from the end\"."
      ]
    },
    {
      "cell_type": "code",
      "execution_count": null,
      "metadata": {
        "colab": {
          "base_uri": "https://localhost:8080/"
        },
        "id": "p6UjJVn2dG9j",
        "outputId": "3202413e-9857-459b-ec7d-f46df67e7936"
      },
      "outputs": [
        {
          "name": "stdout",
          "output_type": "stream",
          "text": [
            "lw\n"
          ]
        }
      ],
      "source": [
        "# This prints the characters of string from 3 to 7 skipping one character.\n",
        "# This is extended slice syntax. The general form is [start:stop:step].\n",
        "\n",
        "astring = \"Helloworld!\"\n",
        "print(astring[3:7:2])"
      ]
    },
    {
      "cell_type": "code",
      "execution_count": null,
      "metadata": {
        "colab": {
          "base_uri": "https://localhost:8080/"
        },
        "id": "uWFum6bqdhvN",
        "outputId": "15ba0e9f-fefd-4171-9ff8-0580a1a5d954"
      },
      "outputs": [
        {
          "name": "stdout",
          "output_type": "stream",
          "text": [
            "lo w\n",
            "lo w\n"
          ]
        }
      ],
      "source": [
        "# What would be the output?\n",
        "\n",
        "astring = \"Hello world!\"\n",
        "print(astring[3:7])\n",
        "print(astring[3:7:1])\n"
      ]
    },
    {
      "cell_type": "code",
      "execution_count": null,
      "metadata": {
        "colab": {
          "base_uri": "https://localhost:8080/"
        },
        "id": "tD7r5d6pdy38",
        "outputId": "337cb9ed-0b2a-41b5-c417-65520f09c946"
      },
      "outputs": [
        {
          "name": "stdout",
          "output_type": "stream",
          "text": [
            "!dlrow olleH\n"
          ]
        }
      ],
      "source": [
        "# There is no function like strrev in C to reverse a string.\n",
        "# But with the above mentioned type of slice syntax you can easily reverse a string like this:\n",
        "\n",
        "astring = \"Hello world!\"\n",
        "print(astring[::-1])"
      ]
    },
    {
      "cell_type": "code",
      "execution_count": null,
      "metadata": {
        "colab": {
          "base_uri": "https://localhost:8080/"
        },
        "id": "Kd8OzryJd95r",
        "outputId": "8233d0f6-ae68-40cc-d1cf-957918843c43"
      },
      "outputs": [
        {
          "name": "stdout",
          "output_type": "stream",
          "text": [
            "HELLO WORLD!\n",
            "hello world!\n"
          ]
        }
      ],
      "source": [
        "astring = \"Hello world!\"\n",
        "print(astring.upper())\n",
        "print(astring.lower())"
      ]
    },
    {
      "cell_type": "code",
      "execution_count": null,
      "metadata": {
        "colab": {
          "base_uri": "https://localhost:8080/"
        },
        "id": "Gmro8LQceH_4",
        "outputId": "bfc045b3-3078-4fc5-891e-5bf57ff1c807"
      },
      "outputs": [
        {
          "name": "stdout",
          "output_type": "stream",
          "text": [
            "True\n",
            "True\n"
          ]
        }
      ],
      "source": [
        "astring = \"Hello world!\"\n",
        "print(astring.startswith(\"Hello\"))\n",
        "print(astring.endswith(\"rld!\"))"
      ]
    },
    {
      "cell_type": "markdown",
      "metadata": {
        "id": "BmBsrRHPeQ0L"
      },
      "source": [
        "astring = \"Hello world!\"\n",
        "print(astring.startswith(\"Hello\"))\n",
        "print(astring.endswith(\"asdfasdfasdf\"))"
      ]
    },
    {
      "cell_type": "code",
      "execution_count": null,
      "metadata": {
        "colab": {
          "base_uri": "https://localhost:8080/"
        },
        "id": "NH_gm6l9eUcP",
        "outputId": "2cee5f60-e4ae-4f52-e863-bda9a560be85"
      },
      "outputs": [
        {
          "name": "stdout",
          "output_type": "stream",
          "text": [
            "['Hello', 'world', 'CSE', 'EWU!']\n"
          ]
        }
      ],
      "source": [
        "astring = \"Hello world CSE EWU!\"\n",
        "afewwords = astring.split(\" \")\n",
        "print(afewwords)"
      ]
    },
    {
      "cell_type": "markdown",
      "metadata": {
        "id": "Uxca_DkPeZEv"
      },
      "source": [
        "This splits the string into a bunch of strings grouped together in a list. Since this example splits at a space, the first item in the list will be \"Hello\", and the second will be \"world!\"."
      ]
    },
    {
      "cell_type": "markdown",
      "metadata": {
        "id": "38yN-j3kexGG"
      },
      "source": [
        "**Exercise**\n",
        "\n",
        "Exercise\n",
        "Try to fix the code to print out the correct information by changing the string."
      ]
    },
    {
      "cell_type": "code",
      "execution_count": null,
      "metadata": {
        "id": "cyct26Bue1tq"
      },
      "outputs": [],
      "source": [
        "s = \"Hey there! what should this string be?\"\n",
        "# Length should be 20\n",
        "print(\"Length of s = %d\" % len(s))\n",
        "\n",
        "# First occurrence of \"a\" should be at index 8\n",
        "print(\"The first occurrence of the letter a = %d\" % s.index(\"a\"))\n",
        "\n",
        "# Number of a's should be 2\n",
        "print(\"a occurs %d times\" % s.count(\"a\"))\n",
        "\n",
        "# Slicing the string into bits\n",
        "print(\"The first five characters are '%s'\" % s[:5]) # Start to 5\n",
        "print(\"The next five characters are '%s'\" % s[5:10]) # 5 to 10\n",
        "print(\"The thirteenth character is '%s'\" % s[12]) # Just number 12\n",
        "print(\"The characters with odd index are '%s'\" %s[1::2]) #(0-based indexing)\n",
        "print(\"The last five characters are '%s'\" % s[-5:]) # 5th-from-last to end\n",
        "\n",
        "# Convert everything to uppercase\n",
        "print(\"String in uppercase: %s\" % s.upper())\n",
        "\n",
        "# Convert everything to lowercase\n",
        "print(\"String in lowercase: %s\" % s.lower())\n",
        "\n",
        "# Check how a string starts\n",
        "if s.startswith(\"Str\"):\n",
        "    print(\"String starts with 'Str'. Good!\")\n",
        "\n",
        "# Check how a string ends\n",
        "if s.endswith(\"ome!\"):\n",
        "    print(\"String ends with 'ome!'. Good!\")\n",
        "\n",
        "# Split the string into three separate strings,\n",
        "# each containing only a word\n",
        "print(\"Split the words of the string: %s\" % s.split(\" \"))"
      ]
    },
    {
      "cell_type": "markdown",
      "metadata": {
        "id": "PwO3RPtgoHzR"
      },
      "source": [
        "# Condition\n",
        "\n",
        "Python uses boolean logic to evaluate conditions. The boolean values True and False are returned when an expression is compared or evaluated."
      ]
    },
    {
      "cell_type": "code",
      "execution_count": null,
      "metadata": {
        "colab": {
          "base_uri": "https://localhost:8080/"
        },
        "id": "u-xEQHeroT06",
        "outputId": "a68adab9-a4fd-4467-ac5a-66ccfc421f5f"
      },
      "outputs": [
        {
          "name": "stdout",
          "output_type": "stream",
          "text": [
            "True\n",
            "False\n",
            "True\n"
          ]
        }
      ],
      "source": [
        "x = 2\n",
        "print(x == 2) # prints out True\n",
        "print(x == 3) # prints out False\n",
        "print(x < 3) # prints out True"
      ]
    },
    {
      "cell_type": "markdown",
      "metadata": {
        "id": "l7_pMxPwocc0"
      },
      "source": [
        "Notice that variable assignment is done using a single equals operator \"=\", whereas comparison between two variables is done using the double equals operator \"==\". The \"not equals\" operator is marked as \"!=\"."
      ]
    },
    {
      "cell_type": "markdown",
      "metadata": {
        "id": "xB-uxQaeodhS"
      },
      "source": [
        "**Boolean operators**\n",
        "\n",
        "The \"and\" and \"or\" boolean operators allow building complex boolean expressions, for example:"
      ]
    },
    {
      "cell_type": "code",
      "execution_count": null,
      "metadata": {
        "colab": {
          "base_uri": "https://localhost:8080/"
        },
        "id": "7mhW3QF4ojTv",
        "outputId": "930c5ff5-91c5-48d3-9857-4cfad34ffc46"
      },
      "outputs": [
        {
          "name": "stdout",
          "output_type": "stream",
          "text": [
            "Your name is John, and you are also 23 years old.\n",
            "Your name is either John or Rick.\n"
          ]
        }
      ],
      "source": [
        "name = \"John\"\n",
        "age = 23\n",
        "if name == \"John\" and age == 23:\n",
        "    print(\"Your name is John, and you are also 23 years old.\")\n",
        "\n",
        "if name == \"John\" or name == \"Rick\":\n",
        "    print(\"Your name is either John or Rick.\")"
      ]
    },
    {
      "cell_type": "markdown",
      "metadata": {
        "id": "n7R16zfcor4T"
      },
      "source": [
        "**The \"in\" operator**\n",
        "\n",
        "The \"in\" operator could be used to check if a specified object exists within an iterable object container, such as a list:"
      ]
    },
    {
      "cell_type": "code",
      "execution_count": null,
      "metadata": {
        "colab": {
          "base_uri": "https://localhost:8080/"
        },
        "id": "1owVGVFFozXK",
        "outputId": "e7bf8014-2cc3-4ce8-f343-c4542c744e53"
      },
      "outputs": [
        {
          "name": "stdout",
          "output_type": "stream",
          "text": [
            "Your name is either John or Rick.\n"
          ]
        }
      ],
      "source": [
        "name = \"John\"\n",
        "if name in [\"John\", \"Rick\"]:\n",
        "    print(\"Your name is either John or Rick.\")"
      ]
    },
    {
      "cell_type": "markdown",
      "metadata": {
        "id": "yEAIl_pMo7wW"
      },
      "source": [
        "Python uses indentation to define code blocks, instead of brackets. The standard Python indentation is 4 spaces, although tabs and any other space size will work, as long as it is consistent. Notice that code blocks do not need any termination.\n",
        "\n",
        "Here is an example for using Python's \"if\" statement using code blocks:"
      ]
    },
    {
      "cell_type": "code",
      "execution_count": null,
      "metadata": {
        "id": "9zcVcBEBo81k"
      },
      "outputs": [],
      "source": [
        "statement = False\n",
        "another_statement = True\n",
        "if statement is True:\n",
        "    # do something\n",
        "    pass\n",
        "elif another_statement is True: # else if\n",
        "    # do something else\n",
        "    pass\n",
        "else:\n",
        "    # do another thing\n",
        "    pass"
      ]
    },
    {
      "cell_type": "code",
      "execution_count": null,
      "metadata": {
        "colab": {
          "base_uri": "https://localhost:8080/"
        },
        "id": "p43hs7eApEND",
        "outputId": "a14db5ff-b57e-4d8d-da01-a8b600ac06fc"
      },
      "outputs": [
        {
          "name": "stdout",
          "output_type": "stream",
          "text": [
            "x equals two!\n"
          ]
        }
      ],
      "source": [
        "x = 2\n",
        "if x == 2:\n",
        "    print(\"x equals two!\")\n",
        "else:\n",
        "    print(\"x does not equal to two.\")"
      ]
    },
    {
      "cell_type": "markdown",
      "metadata": {
        "id": "sbzN3XuhpWpY"
      },
      "source": [
        "A statement is evaulated as true if one of the following is correct:\n",
        "1. The \"True\" boolean variable is given, or calculated using an expression, such as an arithmetic comparison.\n",
        "2. An object which is not considered \"empty\" is passed.\n",
        "\n",
        "Here are some examples for objects which are considered as empty:\n",
        "1. An empty string: `\"\" `\n",
        "2. An empty list: `[] `\n",
        "3. The number zero: `0 `\n",
        "4. The false boolean variable: `False`"
      ]
    },
    {
      "cell_type": "markdown",
      "metadata": {
        "id": "JIa_Ts4_pqVz"
      },
      "source": [
        "**The 'is' operator**\n",
        "\n",
        "**Identity operators**\n",
        "\n",
        "`is` and `is not` are the identity operators in Python. They are used to check if two values (or variables) are located on the same part of the memory. Two variables that are equal does not imply that they are identical.\n",
        "\n",
        "Unlike the double equals operator \"==\", the \"is\" operator does not match the values of the variables, but the instances themselves. For example:\n",
        "\n"
      ]
    },
    {
      "cell_type": "code",
      "execution_count": null,
      "metadata": {
        "id": "56eFAaTxpj29"
      },
      "outputs": [],
      "source": [
        "x = [1,2,3]\n",
        "y = [1,2,3]\n",
        "print(x == y) # Prints out True\n",
        "print(x is y) # Prints out False"
      ]
    },
    {
      "cell_type": "code",
      "execution_count": null,
      "metadata": {
        "colab": {
          "base_uri": "https://localhost:8080/"
        },
        "id": "mFZtKeVUqOEZ",
        "outputId": "b0fbc97e-303b-4b3b-93eb-c7c1f13e30a3"
      },
      "outputs": [
        {
          "name": "stdout",
          "output_type": "stream",
          "text": [
            "True\n",
            "False\n",
            "True\n"
          ]
        }
      ],
      "source": [
        "x = [\"apple\", \"banana\"]\n",
        "y = [\"apple\", \"banana\"]\n",
        "z = x\n",
        "\n",
        "print(x is z)\n",
        "\n",
        "# returns True because z is the same object as x\n",
        "\n",
        "print(x is y)\n",
        "\n",
        "# returns False because x is not the same object as y, even if they have the same content\n",
        "\n",
        "print(x == y)\n",
        "\n",
        "# to demonstrate the difference betweeen \"is\" and \"==\": this comparison returns True because x is equal to y\n"
      ]
    },
    {
      "cell_type": "markdown",
      "metadata": {
        "id": "Qncja3kFrEUm"
      },
      "source": [
        "**The \"not\" operator**\n",
        "\n",
        "Using \"not\" before a boolean expression inverts it:"
      ]
    },
    {
      "cell_type": "code",
      "execution_count": null,
      "metadata": {
        "id": "9H0ed_9frBzC"
      },
      "outputs": [],
      "source": [
        "print(not False) # Prints out True\n",
        "print((not False) == (False)) # Prints out False"
      ]
    },
    {
      "cell_type": "markdown",
      "metadata": {
        "id": "dcvAnlP8rMJ7"
      },
      "source": [
        "**Exercise**\n",
        "\n",
        "Change the variables in the first section, so that each if statement resolves as True."
      ]
    },
    {
      "cell_type": "code",
      "execution_count": null,
      "metadata": {
        "id": "ezKxt_VYrPCX"
      },
      "outputs": [],
      "source": [
        "# change this code\n",
        "number = 10\n",
        "second_number = 10\n",
        "first_array = []\n",
        "second_array = [1,2,3]\n",
        "\n",
        "if number > 15:\n",
        "    print(\"1\")\n",
        "\n",
        "if first_array:\n",
        "    print(\"2\")\n",
        "\n",
        "if len(second_array) == 2:\n",
        "    print(\"3\")\n",
        "\n",
        "if len(first_array) + len(second_array) == 5:\n",
        "    print(\"4\")\n",
        "\n",
        "if first_array and first_array[0] == 1:\n",
        "    print(\"5\")\n",
        "\n",
        "if not second_number:\n",
        "    print(\"6\")"
      ]
    },
    {
      "cell_type": "markdown",
      "source": [
        "# Loops\n",
        "\n",
        "There are two types of loops in Python, for and while.\n",
        "\n",
        "# The \"for\" loop\n",
        "For loops iterate over a given sequence. Here is an example:\n",
        "\n"
      ],
      "metadata": {
        "id": "uLOEzEGxaPVf"
      }
    },
    {
      "cell_type": "code",
      "source": [
        "primes = [2, 3, 5, 7]\n",
        "for prime in primes:\n",
        "    print(prime)"
      ],
      "metadata": {
        "colab": {
          "base_uri": "https://localhost:8080/"
        },
        "outputId": "bdc5f152-0eba-4c0c-cde0-bcca627bddaa",
        "id": "LwBhReuHaPVv"
      },
      "execution_count": null,
      "outputs": [
        {
          "output_type": "stream",
          "name": "stdout",
          "text": [
            "2\n",
            "3\n",
            "5\n",
            "7\n"
          ]
        }
      ]
    },
    {
      "cell_type": "markdown",
      "source": [
        "For loops can iterate over a sequence of numbers using the \"range\" and \"xrange\" functions. The difference between range and xrange is that the range function returns a new list with numbers of that specified range, whereas xrange returns an iterator, which is more efficient. (Python 3 uses the range function, which acts like xrange). Note that the range function is zero based."
      ],
      "metadata": {
        "id": "3PrSiuYXaPVw"
      }
    },
    {
      "cell_type": "code",
      "source": [
        "# Prints out the numbers 0,1,2,3,4\n",
        "for x in range(5):\n",
        "    print(x)\n",
        "\n",
        "# Prints out 3,4,5\n",
        "for x in range(3, 6):\n",
        "    print(x)\n",
        "\n",
        "# Prints out 3,5,7\n",
        "for x in range(3, 8, 2):\n",
        "    print(x)"
      ],
      "metadata": {
        "colab": {
          "base_uri": "https://localhost:8080/"
        },
        "outputId": "525b599d-64ac-4f94-8ac4-7295cbf5e9a7",
        "id": "gUylrksKaPVw"
      },
      "execution_count": null,
      "outputs": [
        {
          "output_type": "stream",
          "name": "stdout",
          "text": [
            "0\n",
            "1\n",
            "2\n",
            "3\n",
            "4\n",
            "3\n",
            "4\n",
            "5\n",
            "3\n",
            "5\n",
            "7\n"
          ]
        }
      ]
    },
    {
      "cell_type": "markdown",
      "source": [
        "**\"while\" loops**\n",
        "\n",
        "\n",
        "While loops repeat as long as a certain boolean condition is met. For example:\n",
        "\n"
      ],
      "metadata": {
        "id": "nriNCX4gaPVw"
      }
    },
    {
      "cell_type": "code",
      "source": [
        "# Prints out 0,1,2,3,4\n",
        "\n",
        "count = 0\n",
        "while count < 5:\n",
        "    print(count)\n",
        "    count += 1  # This is the same as count = count + 1"
      ],
      "metadata": {
        "colab": {
          "base_uri": "https://localhost:8080/"
        },
        "outputId": "2eee12cb-cba1-4885-ab97-2340b616be8a",
        "id": "71Bg27Y1aPVw"
      },
      "execution_count": null,
      "outputs": [
        {
          "output_type": "stream",
          "name": "stdout",
          "text": [
            "0\n",
            "1\n",
            "2\n",
            "3\n",
            "4\n"
          ]
        }
      ]
    },
    {
      "cell_type": "markdown",
      "source": [
        "**\"break\" and \"continue\" statements**\n",
        "\n",
        "break is used to exit a for loop or a while loop, whereas continue is used to skip the current block, and return to the \"for\" or \"while\" statement. A few examples:"
      ],
      "metadata": {
        "id": "8O7AtUi5aPVx"
      }
    },
    {
      "cell_type": "code",
      "source": [
        "# Prints out 0,1,2,3,4\n",
        "\n",
        "count = 0\n",
        "while True:\n",
        "    print(count)\n",
        "    count += 1\n",
        "    if count >= 5:\n",
        "        break\n",
        "\n",
        "# Prints out only odd numbers - 1,3,5,7,9\n",
        "for x in range(10):\n",
        "    # Check if x is even\n",
        "    if x % 2 == 0:\n",
        "        continue\n",
        "    print(x)"
      ],
      "metadata": {
        "colab": {
          "base_uri": "https://localhost:8080/"
        },
        "outputId": "593594dc-1c58-4942-807a-cda5152c91a8",
        "id": "gFw-2jAaaPVx"
      },
      "execution_count": null,
      "outputs": [
        {
          "output_type": "stream",
          "name": "stdout",
          "text": [
            "0\n",
            "1\n",
            "2\n",
            "3\n",
            "4\n",
            "1\n",
            "3\n",
            "5\n",
            "7\n",
            "9\n"
          ]
        }
      ]
    },
    {
      "cell_type": "markdown",
      "source": [
        "**Can we use \"else\" clause for loops?**\n",
        "\n",
        "Unlike languages like C,CPP.. we can use else for loops. When the loop condition of \"for\" or \"while\" statement fails then code part in \"else\" is executed. If a break statement is executed inside the for loop then the \"else\" part is skipped. Note that the \"else\" part is executed even if there is a continue statement.\n",
        "\n",
        "Here are a few examples:\n",
        "\n"
      ],
      "metadata": {
        "id": "9uotd1-6aPVx"
      }
    },
    {
      "cell_type": "code",
      "source": [
        "# Prints out 0,1,2,3,4 and then it prints \"count value reached 5\"\n",
        "\n",
        "count=0\n",
        "while(count<5):\n",
        "    print(count)\n",
        "    count +=1\n",
        "else:\n",
        "    print(\"count value reached %d\" %(count))\n",
        "\n",
        "# Prints out 1,2,3,4\n",
        "for i in range(1, 10):\n",
        "    if(i%5==0):\n",
        "        break\n",
        "    print(i)\n",
        "else:\n",
        "    print(\"this is not printed because for loop is terminated because of break but not due to fail in condition\")"
      ],
      "metadata": {
        "colab": {
          "base_uri": "https://localhost:8080/"
        },
        "outputId": "14b8427c-7f06-4550-e4d2-99a31a150081",
        "id": "mrhJuaDaaPVy"
      },
      "execution_count": null,
      "outputs": [
        {
          "output_type": "stream",
          "name": "stdout",
          "text": [
            "0\n",
            "1\n",
            "2\n",
            "3\n",
            "4\n",
            "count value reached 5\n",
            "1\n",
            "2\n",
            "3\n",
            "4\n"
          ]
        }
      ]
    },
    {
      "cell_type": "markdown",
      "source": [
        "**Exercise**\n",
        "\n",
        "Loop through and print out all even numbers from the numbers list in the same order they are received. Don't print any numbers that come after 237 in the sequence."
      ],
      "metadata": {
        "id": "raHQbH6MaPVy"
      }
    },
    {
      "cell_type": "code",
      "source": [
        "numbers = [\n",
        "    951, 402, 984, 651, 360, 69, 408, 319, 601, 485, 980, 507, 725, 547, 544,\n",
        "    615, 83, 165, 141, 501, 263, 617, 865, 575, 219, 390, 984, 592, 236, 105, 942, 941,\n",
        "    386, 462, 47, 418, 907, 344, 236, 375, 823, 566, 597, 978, 328, 615, 953, 345,\n",
        "    399, 162, 758, 219, 918, 237, 412, 566, 826, 248, 866, 950, 626, 949, 687, 217,\n",
        "    815, 67, 104, 58, 512, 24, 892, 894, 767, 553, 81, 379, 843, 831, 445, 742, 717,\n",
        "    958, 609, 842, 451, 688, 753, 854, 685, 93, 857, 440, 380, 126, 721, 328, 753, 470,\n",
        "    743, 527\n",
        "]\n",
        "\n",
        "# your code goes here\n",
        "for number in numbers:"
      ],
      "metadata": {
        "id": "fv9zmPl4aPVy"
      },
      "execution_count": null,
      "outputs": []
    },
    {
      "cell_type": "markdown",
      "source": [
        "# Functions\n",
        "**What are Functions?**\n",
        "\n",
        "Functions are a convenient way to divide your code into useful blocks, allowing us to order our code, make it more readable, reuse it and save some time. Also functions are a key way to define interfaces so programmers can share their code.\n",
        "\n",
        "\\\n",
        "\n",
        "**How do you write functions in Python?**\n",
        "\n",
        "As we have seen on previous tutorials, Python makes use of blocks.\n",
        "\n",
        "A block is a area of code of written in the format of:"
      ],
      "metadata": {
        "id": "1gkgTO4SLhm-"
      }
    },
    {
      "cell_type": "code",
      "source": [
        "# block_head:\n",
        "#     1st block line\n",
        "#     2nd block line\n",
        "#     ..."
      ],
      "metadata": {
        "id": "Mf0dtZmnMzU4"
      },
      "execution_count": null,
      "outputs": []
    },
    {
      "cell_type": "markdown",
      "source": [
        "\n",
        "\n",
        "\n",
        "Where a block line is more Python code (even another block), and the block head is of the following format: block_keyword block_name(argument1,argument2, ...) Block keywords you already know are \"if\", \"for\", and \"while\".\n",
        "\n",
        "Functions in python are defined using the block keyword \"def\", followed with the function's name as the block's name. For example:"
      ],
      "metadata": {
        "id": "S-twqSDWL3kB"
      }
    },
    {
      "cell_type": "code",
      "source": [
        "def my_function():\n",
        "    print(\"Hello From My Function!\")"
      ],
      "metadata": {
        "id": "N-YzVFHKM6JY"
      },
      "execution_count": null,
      "outputs": []
    },
    {
      "cell_type": "markdown",
      "source": [
        "Functions may also receive arguments (variables passed from the caller to the function). For example:"
      ],
      "metadata": {
        "id": "Yapozts5NKmq"
      }
    },
    {
      "cell_type": "code",
      "source": [
        "def my_function_with_args(username, greeting):\n",
        "    print(\"Hello, %s , From My Function!, I wish you %s\"%(username, greeting))"
      ],
      "metadata": {
        "id": "fjOum6_4NGN_"
      },
      "execution_count": null,
      "outputs": []
    },
    {
      "cell_type": "markdown",
      "source": [
        "Functions may return a value to the caller, using the keyword- 'return' . For example:"
      ],
      "metadata": {
        "id": "24V3pLSZNQtN"
      }
    },
    {
      "cell_type": "code",
      "source": [
        "def sum_two_numbers(a, b):\n",
        "    return a + b"
      ],
      "metadata": {
        "id": "z23uRCRbNFUf"
      },
      "execution_count": null,
      "outputs": []
    },
    {
      "cell_type": "markdown",
      "source": [
        "**How do you call functions in Python?**\n",
        "\n",
        "Simply write the function's name followed by (), placing any required arguments within the brackets. For example, lets call the functions written above (in the previous example):"
      ],
      "metadata": {
        "id": "GxBvp6DpNU4h"
      }
    },
    {
      "cell_type": "code",
      "source": [
        "# Define our 3 functions\n",
        "def my_function():\n",
        "    print(\"Hello From My Function!\")\n",
        "\n",
        "def my_function_with_args(username, greeting):\n",
        "    print(\"Hello, %s, From My Function!, I wish you %s\"%(username, greeting))\n",
        "\n",
        "def sum_two_numbers(a, b):\n",
        "    return a + b\n",
        "\n",
        "# print(a simple greeting)\n",
        "my_function()\n",
        "\n",
        "#prints - \"Hello, John Doe, From My Function!, I wish you a great year!\"\n",
        "my_function_with_args(\"John Doe\", \"a great year!\")\n",
        "\n",
        "# after this line x will hold the value 3!\n",
        "x = sum_two_numbers(1,2)"
      ],
      "metadata": {
        "colab": {
          "base_uri": "https://localhost:8080/"
        },
        "id": "POB8_xPdNXaW",
        "outputId": "dc5f0b37-ae95-4381-ddff-bb27c1772f9c"
      },
      "execution_count": null,
      "outputs": [
        {
          "output_type": "stream",
          "name": "stdout",
          "text": [
            "Hello From My Function!\n",
            "Hello, John Doe, From My Function!, I wish you a great year!\n"
          ]
        }
      ]
    },
    {
      "cell_type": "markdown",
      "source": [
        "**Exercise**\n",
        "\n",
        "In this exercise you'll use an existing function, and while adding your own to create a fully functional program.\n",
        "\n",
        "\n",
        "\n",
        "1.   Add a function named **list_benefits()** that returns the following list of strings: \"More organized code\", \"More readable code\", \"Easier code reuse\", \"Allowing programmers to share and connect code together\"\n",
        "\n",
        "2.   Add a function named **build_sentence(info)** which receives a single argument containing a string and returns a sentence starting with the given string and ending with the string \" is a benefit of functions!\"\n",
        "\n",
        "3. Run and see all the functions work together!\n",
        "\n"
      ],
      "metadata": {
        "id": "J49rYfRgNdSE"
      }
    },
    {
      "cell_type": "code",
      "source": [
        "# Modify this function to return a list of strings as defined above\n",
        "def list_benefits():\n",
        "    return []\n",
        "\n",
        "# Modify this function to concatenate to each benefit - \" is a benefit of functions!\"\n",
        "def build_sentence(benefit):\n",
        "    return \"\"\n",
        "\n",
        "def name_the_benefits_of_functions():\n",
        "    list_of_benefits = list_benefits()\n",
        "    for benefit in list_of_benefits:\n",
        "        print(build_sentence(benefit))\n",
        "\n",
        "name_the_benefits_of_functions()"
      ],
      "metadata": {
        "id": "E59jRrKONZKz"
      },
      "execution_count": null,
      "outputs": []
    },
    {
      "cell_type": "markdown",
      "metadata": {
        "id": "q_g6A2V3R-UO"
      },
      "source": [
        "# Important Links:\n",
        "\n",
        "https://www.learnpython.org\n",
        "\n",
        "https://www.programiz.com/python-programming\n",
        "\n",
        "\n"
      ]
    }
  ],
  "metadata": {
    "colab": {
      "collapsed_sections": [
        "CpKuWh4cHHCF",
        "l850oefFG_BE",
        "eFVq0chBJWkg",
        "koSIE2suOCyh",
        "68LyAzs8NbOj",
        "2Nt_kKQAUutp",
        "2yBvqzu7UBe4",
        "gHdh3HkoakFx",
        "PwO3RPtgoHzR",
        "uLOEzEGxaPVf",
        "1gkgTO4SLhm-"
      ],
      "provenance": []
    },
    "kernelspec": {
      "display_name": "Python 3.8.11 ('env_tf')",
      "language": "python",
      "name": "python3"
    },
    "language_info": {
      "name": "python",
      "version": "3.8.11"
    },
    "vscode": {
      "interpreter": {
        "hash": "5df4995f4205929e0e7a5839a3f9bdb0ead66b703c002bad5d5fcff442b16b20"
      }
    }
  },
  "nbformat": 4,
  "nbformat_minor": 0
}