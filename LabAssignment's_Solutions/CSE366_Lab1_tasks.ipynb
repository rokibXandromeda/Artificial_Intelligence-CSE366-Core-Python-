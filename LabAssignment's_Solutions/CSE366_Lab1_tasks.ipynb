{
  "nbformat": 4,
  "nbformat_minor": 0,
  "metadata": {
    "colab": {
      "provenance": []
    },
    "kernelspec": {
      "name": "python3",
      "display_name": "Python 3"
    },
    "language_info": {
      "name": "python"
    }
  },
  "cells": [
    {
      "cell_type": "markdown",
      "source": [
        "Binary Search"
      ],
      "metadata": {
        "id": "DGwcnWqj12So"
      }
    },
    {
      "cell_type": "code",
      "source": [
        "val = int(input())\n",
        "x = [1,2,6,9,4,5,6,7]\n",
        "print(sorted(x))\n",
        "mid = int(len(x) / 2)\n",
        "# print(mid)\n",
        "if(val>=mid):\n",
        "  for i in range(len(x)):\n",
        "\n",
        "\n",
        "\n",
        "\n"
      ],
      "metadata": {
        "id": "ssAIWnWV2AZ_"
      },
      "execution_count": null,
      "outputs": []
    },
    {
      "cell_type": "markdown",
      "source": [
        "# 1. Write a Python program that accepts the user's first and last name and prints them in reverse order with a space between them."
      ],
      "metadata": {
        "id": "FxvHPCoN9Szy"
      }
    },
    {
      "cell_type": "code",
      "source": [
        "x = input()\n",
        "y = input()\n",
        "print( y[::-1] + \" \" + x[::-1] )\n",
        "# print()\n"
      ],
      "metadata": {
        "colab": {
          "base_uri": "https://localhost:8080/"
        },
        "id": "S8dx3Ckh9TBx",
        "outputId": "69e44030-288e-46fe-9eea-6f91006b2f2c"
      },
      "execution_count": null,
      "outputs": [
        {
          "output_type": "stream",
          "name": "stdout",
          "text": [
            "rokib\n",
            "islam\n",
            "malsi bikor\n"
          ]
        }
      ]
    },
    {
      "cell_type": "markdown",
      "source": [
        "# 2. Write a Python program to display the first and last colors from the following list.\n",
        "color_list = [\"Red\",\"Green\",\"White\" ,\"Black\"]"
      ],
      "metadata": {
        "id": "YWKsUuCb_qAq"
      }
    },
    {
      "cell_type": "code",
      "source": [
        "color_list = [\"Red\",\"Green\",\"White\" ,\"Black\"]\n",
        "print(color_list[0] + \" \" + color_list[3])"
      ],
      "metadata": {
        "colab": {
          "base_uri": "https://localhost:8080/"
        },
        "id": "mBHOZlL6_qQ4",
        "outputId": "ef43ebc2-56ef-439b-f605-0abb754be9ad"
      },
      "execution_count": null,
      "outputs": [
        {
          "output_type": "stream",
          "name": "stdout",
          "text": [
            "Red Black\n"
          ]
        }
      ]
    },
    {
      "cell_type": "markdown",
      "source": [
        "# 3. Write a Python program that accepts an integer (n) and computes the value of n+nn+nnn.\n",
        "Sample value of n is 5"
      ],
      "metadata": {
        "id": "Ea9oSL36BItS"
      }
    },
    {
      "cell_type": "code",
      "source": [
        "n = int(input())\n",
        "nn = int(str(n) + str(n))\n",
        "nnn = int(str(n) + str(n)  + str(n)) //convert integer into string\n",
        "# for i in range(2):\n",
        "print(n + nn + nnn)\n"
      ],
      "metadata": {
        "colab": {
          "base_uri": "https://localhost:8080/"
        },
        "id": "M9jn9CmaBI2g",
        "outputId": "326dc6d6-054b-41db-a325-65ee09d9c61a"
      },
      "execution_count": 13,
      "outputs": [
        {
          "output_type": "stream",
          "name": "stdout",
          "text": [
            "5\n",
            "615\n"
          ]
        }
      ]
    },
    {
      "cell_type": "markdown",
      "source": [
        "# 5. Write a Python program to calculate the sum of three given numbers. If the values are equal, return three times their sum."
      ],
      "metadata": {
        "id": "oIAFXv5eCbJ3"
      }
    },
    {
      "cell_type": "code",
      "source": [
        "x = int(input())\n",
        "y = int(input())\n",
        "z = int(input())\n",
        "k = x+y+z\n",
        "if x == y and y == z and x == z:\n",
        "  print(k*k)"
      ],
      "metadata": {
        "colab": {
          "base_uri": "https://localhost:8080/"
        },
        "id": "VJKj1wYhCbT3",
        "outputId": "8601d660-0932-4941-9c82-ae8c2ca9c894"
      },
      "execution_count": null,
      "outputs": [
        {
          "output_type": "stream",
          "name": "stdout",
          "text": [
            "2\n",
            "2\n",
            "2\n",
            "36\n"
          ]
        }
      ]
    },
    {
      "cell_type": "markdown",
      "source": [
        "# 6. Write a Python program that determines whether a given number (accepted from the user) is even or odd, and prints an appropriate message to the user."
      ],
      "metadata": {
        "id": "Cl87OSE9D4Ga"
      }
    },
    {
      "cell_type": "code",
      "source": [
        "x = int(input())\n",
        "\n",
        "if (x %2 == 0):\n",
        "  print(\"even number\")\n",
        "else:\n",
        "  print(\"odd number\")\n"
      ],
      "metadata": {
        "colab": {
          "base_uri": "https://localhost:8080/"
        },
        "id": "jwlUMZUnD4Xq",
        "outputId": "7ed8a094-9447-42fa-87d5-a08bcecd02e4"
      },
      "execution_count": null,
      "outputs": [
        {
          "output_type": "stream",
          "name": "stdout",
          "text": [
            "10\n",
            "even number\n"
          ]
        }
      ]
    },
    {
      "cell_type": "markdown",
      "source": [
        "# 7. Write a Python program to test whether a passed letter is a vowel or not."
      ],
      "metadata": {
        "id": "9_MyNNN8ETUW"
      }
    },
    {
      "cell_type": "code",
      "source": [
        "# k = input()\n",
        "# vowels = ['a', 'e', 'i', 'o', 'u']\n",
        "# for i in range(len(k)+1):\n",
        "#    if k == vowels[i]:\n",
        "#     print(\"The letter is a vowel\")\n",
        "#    elif i>=len(k):\n",
        "#     print(\"The letter is not a vowel\")\n",
        "\n",
        "\n",
        "l = input()\n",
        "vowels = ['a', 'e', 'i', 'o', 'u']\n",
        "if l in vowels:\n",
        "  print(\"The letter is a vowel\")\n",
        "else:\n",
        "    print(\"The letter is not a vowel\")"
      ],
      "metadata": {
        "colab": {
          "base_uri": "https://localhost:8080/"
        },
        "id": "Pl2INFVIETyd",
        "outputId": "4c513e3e-cd2f-44e2-e523-4c2e5c409368"
      },
      "execution_count": 57,
      "outputs": [
        {
          "output_type": "stream",
          "name": "stdout",
          "text": [
            "k\n",
            "The letter is not a vowel\n"
          ]
        }
      ]
    },
    {
      "cell_type": "markdown",
      "source": [
        "# 8. Write a Python program that computes the greatest common divisor (GCD) of two positive integers.\n"
      ],
      "metadata": {
        "id": "gteo1g8m_9Oi"
      }
    },
    {
      "cell_type": "code",
      "source": [
        "x = int(input())\n",
        "y = int(input())\n",
        "# k = 0\n",
        "for i in range(1,x):\n",
        "  if x%i==0:\n",
        "    k.list[i]\n",
        "  else:\n",
        "     continue\n",
        "print(k)\n",
        "\n"
      ],
      "metadata": {
        "id": "Y51bbTq2_9hK"
      },
      "execution_count": null,
      "outputs": []
    },
    {
      "cell_type": "markdown",
      "source": [
        "# 9. Write a Python program that removes and prints every third number from a list of numbers until the list is empty."
      ],
      "metadata": {
        "id": "ACms-JqiAFGo"
      }
    },
    {
      "cell_type": "code",
      "source": [
        "k = [1,8,3,4,9,7,2]\n",
        "# print(len(k))\n",
        "for i in range(2,len(k),3):\n",
        "  # if i%3 == 0:\n",
        "    print (k[i])\n"
      ],
      "metadata": {
        "colab": {
          "base_uri": "https://localhost:8080/"
        },
        "id": "hCHc2R3nAFPj",
        "outputId": "853ead60-de96-447b-b43f-8d006b99c794"
      },
      "execution_count": null,
      "outputs": [
        {
          "output_type": "stream",
          "name": "stdout",
          "text": [
            "3\n",
            "7\n"
          ]
        }
      ]
    },
    {
      "cell_type": "markdown",
      "source": [
        "# 10. Write a Python program to calculate the distance between the points (x1, y1) and (x2, y2)."
      ],
      "metadata": {
        "id": "S3vkb03VALpP"
      }
    },
    {
      "cell_type": "code",
      "source": [
        "def distance(x1,y1,x2,y2):\n",
        "  k = ((x1-x2)**2 + (y1-y2)**2)**0.5\n",
        "  # ** <- means square\n",
        "  return k"
      ],
      "metadata": {
        "id": "0qNnqe7UAL5H"
      },
      "execution_count": null,
      "outputs": []
    },
    {
      "cell_type": "code",
      "source": [
        "x1 = int(input())\n",
        "x2 = int(input())\n",
        "y1 = int(input())\n",
        "y2 = int(input())\n",
        "distance(x1,x2,y1,y2)\n",
        "# print(k)"
      ],
      "metadata": {
        "colab": {
          "base_uri": "https://localhost:8080/"
        },
        "id": "KIytAsRQ8S5_",
        "outputId": "0d2fcc58-89f9-411f-9c87-3cd7588fc7d4"
      },
      "execution_count": null,
      "outputs": [
        {
          "name": "stdout",
          "output_type": "stream",
          "text": [
            "2\n",
            "5\n",
            "3\n",
            "7\n"
          ]
        },
        {
          "output_type": "execute_result",
          "data": {
            "text/plain": [
              "2.23606797749979"
            ]
          },
          "metadata": {},
          "execution_count": 41
        }
      ]
    }
  ]
}